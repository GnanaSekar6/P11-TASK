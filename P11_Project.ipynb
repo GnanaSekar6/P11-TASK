{
  "nbformat": 4,
  "nbformat_minor": 0,
  "metadata": {
    "colab": {
      "provenance": []
    },
    "kernelspec": {
      "name": "python3",
      "display_name": "Python 3"
    },
    "language_info": {
      "name": "python"
    }
  },
  "cells": [
    {
      "cell_type": "markdown",
      "source": [
        "# **1.Write a program to find out the prime numbers**"
      ],
      "metadata": {
        "id": "1arWe2yC3B-_"
      }
    },
    {
      "cell_type": "code",
      "source": [
        "num=int(input())\n",
        "if num>1:\n",
        "  for i in range(2,num):\n",
        "    if num%i==0:\n",
        "      print(num,'is not a prime number')\n",
        "      break\n",
        "  else:\n",
        "    print(num,'is a prime number')\n",
        "else:\n",
        "    print(num,'is not a prime number')"
      ],
      "metadata": {
        "colab": {
          "base_uri": "https://localhost:8080/"
        },
        "id": "0YF62el2p_u0",
        "outputId": "f5a553e5-c6b5-4740-beca-5f988808db2c"
      },
      "execution_count": null,
      "outputs": [
        {
          "output_type": "stream",
          "name": "stdout",
          "text": [
            "4\n",
            "4 is not a prime number\n"
          ]
        }
      ]
    },
    {
      "cell_type": "markdown",
      "source": [
        "# **2.write a program to create the equation** (a+b+c) * (a-b-c) * ab + a^2 + b ^2 + (abc)^3"
      ],
      "metadata": {
        "id": "zDrSERyw_ZdJ"
      }
    },
    {
      "cell_type": "code",
      "source": [
        "a,b,c= map(int,input().split(' '))\n",
        "A= (a+b+c) * (a-b-c) * (a*b) + (a)**2 + (b)**2 + (a*b*c)**3\n",
        "print(A)"
      ],
      "metadata": {
        "colab": {
          "base_uri": "https://localhost:8080/"
        },
        "id": "hSQuGfvOBPNP",
        "outputId": "2e5cabb6-ddf0-4cdf-9168-7322024a687a"
      },
      "execution_count": null,
      "outputs": [
        {
          "output_type": "stream",
          "name": "stdout",
          "text": [
            "1 2 3\n",
            "173\n"
          ]
        }
      ]
    },
    {
      "cell_type": "markdown",
      "source": [
        "# **3. urlist = ['wood','knife','axe'] , mylist = ['tree', 'apple', 'mango', 'melon'] – combine two lists**"
      ],
      "metadata": {
        "id": "nFePDeuh-MXh"
      }
    },
    {
      "cell_type": "code",
      "source": [
        "urlist = ['wood','knife','axe']\n",
        "mylist = ['tree', 'apple', 'mango', 'melon'] \n",
        "comblist = urlist + mylist\n",
        "print(comblist)\n"
      ],
      "metadata": {
        "colab": {
          "base_uri": "https://localhost:8080/"
        },
        "id": "7u6pqV26Aekp",
        "outputId": "ac90a0fa-2936-4bb6-f754-e7b6da16d55d"
      },
      "execution_count": null,
      "outputs": [
        {
          "output_type": "stream",
          "name": "stdout",
          "text": [
            "['wood', 'knife', 'axe', 'tree', 'apple', 'mango', 'melon']\n"
          ]
        }
      ]
    },
    {
      "cell_type": "markdown",
      "source": [
        "# **4.write a program for natural number based on user input**"
      ],
      "metadata": {
        "id": "28Xf10Xj-bpo"
      }
    },
    {
      "cell_type": "code",
      "source": [
        "N = int(input())\n",
        "if N>=0:\n",
        "  print('the number is natural number')\n",
        "else:\n",
        "  print('the number is not natural number')"
      ],
      "metadata": {
        "id": "c4PnXsSoBNsY"
      },
      "execution_count": null,
      "outputs": []
    },
    {
      "cell_type": "markdown",
      "source": [
        "# **5.write class and function for the equation sqrt(x1-x2) ^ 2 + sqrt( y1 – y2 ) ^2 using try except handling**"
      ],
      "metadata": {
        "id": "PPAI1Lb2-jN_"
      }
    },
    {
      "cell_type": "code",
      "source": [
        "try:\n",
        "  x1,x2=map(int,input().split(\",\"))\n",
        "  y1,y2=map(int,input().split(\",\"))\n",
        "  def distance(x1, y1, x2, y2):\n",
        "    return (((x2 - x1)**2 +(y2 - y1)**2)**0.5)\n",
        "  print(distance(x1, x2, y1, y2 ))\n",
        "  \n",
        "except ValueError:\n",
        "  print(\"enter a integer\")"
      ],
      "metadata": {
        "id": "nKEdp12YEpWf",
        "colab": {
          "base_uri": "https://localhost:8080/"
        },
        "outputId": "d26f7a13-d332-46ad-e1c1-bdb4daa5d2ce"
      },
      "execution_count": 11,
      "outputs": [
        {
          "output_type": "stream",
          "name": "stdout",
          "text": [
            "1 2 3 4\n",
            "enter a integer\n"
          ]
        }
      ]
    },
    {
      "cell_type": "markdown",
      "source": [
        "# **6. Name  = “Guvi python”  - write a program to get “python” word from the string**"
      ],
      "metadata": {
        "id": "qL6ZDEk6-nE3"
      }
    },
    {
      "cell_type": "code",
      "source": [
        "Name = 'Guvi python'\n",
        "print(Name[5:])"
      ],
      "metadata": {
        "colab": {
          "base_uri": "https://localhost:8080/"
        },
        "id": "dKoxVWbQEs5w",
        "outputId": "de4cb4c2-e8fb-4abb-dbec-5ac7560f973a"
      },
      "execution_count": null,
      "outputs": [
        {
          "output_type": "stream",
          "name": "stdout",
          "text": [
            "python\n"
          ]
        }
      ]
    },
    {
      "cell_type": "markdown",
      "source": [
        "# **7.Using class and function - Write a program for palindrome Ex. Madam**"
      ],
      "metadata": {
        "id": "wfHZlwWy-sfP"
      }
    },
    {
      "cell_type": "code",
      "source": [
        "class Palindrome:\n",
        "  def __init__(self,a):\n",
        "    self.a = a\n",
        "  def Ispalindrome(self):\n",
        "    if self.a==self.a[::-1]:\n",
        "      print(self.a,'is palindrome')\n",
        "    else:\n",
        "      print(self.a,\"is not a palindrome\")\n",
        "P= Palindrome(input())\n",
        "P.Ispalindrome()\n"
      ],
      "metadata": {
        "id": "JMfRx7M0FofY"
      },
      "execution_count": null,
      "outputs": []
    },
    {
      "cell_type": "code",
      "source": [
        "\n"
      ],
      "metadata": {
        "id": "wbvpr2IyJB43"
      },
      "execution_count": null,
      "outputs": []
    },
    {
      "cell_type": "markdown",
      "source": [
        "# **8.using file handling – write a text file in ur system with “hello world”**"
      ],
      "metadata": {
        "id": "cuOp8hJK-xEv"
      }
    },
    {
      "cell_type": "code",
      "source": [
        "P11 = open(\"P11project.txt\", \"w\", encoding = 'utf-8')\n",
        "P11.write('Hello world')\n",
        "P11.close()\n",
        "P11 = open(\"P11project.txt\", \"r\")\n",
        "print(P11)"
      ],
      "metadata": {
        "id": "2i0XAVVXHRd_",
        "colab": {
          "base_uri": "https://localhost:8080/"
        },
        "outputId": "ed04cc0f-b7e7-4af3-f85b-88ebf8ff9b78"
      },
      "execution_count": 14,
      "outputs": [
        {
          "output_type": "stream",
          "name": "stdout",
          "text": [
            "<_io.TextIOWrapper name='P11project.txt' mode='r' encoding='UTF-8'>\n"
          ]
        }
      ]
    },
    {
      "cell_type": "markdown",
      "source": [
        "# **9.create option button using tkinter GUI in python**"
      ],
      "metadata": {
        "id": "G7UK2-HT-1sv"
      }
    },
    {
      "cell_type": "code",
      "source": [
        "!apt-get install -y xvfb # Install X Virtual Frame Buffer\n",
        "import os\n",
        "os.system('Xvfb :1 -screen 0 1600x1200x16  &')    # create   with size 1600x1200 and 16 bit color. Color can be changed to 24 or 8\n",
        "os.environ['DISPLAY']=':2.0'"
      ],
      "metadata": {
        "id": "rvyv9Fek2u44"
      },
      "execution_count": null,
      "outputs": []
    },
    {
      "cell_type": "code",
      "source": [
        "import tkinter\n",
        "x = tkinter.Tk()\n",
        "x.geometry(\"200x200\")\n",
        "b=tkinter.Button(x,text=\"option\")\n",
        "b.pack()\n",
        "x.mainloop()"
      ],
      "metadata": {
        "id": "TQuaunMJ4PWw"
      },
      "execution_count": null,
      "outputs": []
    },
    {
      "cell_type": "markdown",
      "source": [
        "# **10.Keep only numbers from the following string x = “ 89e9jcd^o38829@3%3,/mkl$w1”**"
      ],
      "metadata": {
        "id": "RIGqemuN-9kn"
      }
    },
    {
      "cell_type": "code",
      "source": [
        "import re\n",
        "x=\"89e9jcd^o38829@3%3,/mkl$w1\"\n",
        "y=[]\n",
        "for i in x:\n",
        "    if i.isdigit():\n",
        "        y.append(i)\n",
        "print(*y)"
      ],
      "metadata": {
        "id": "nr3OsImO9Pwx"
      },
      "execution_count": null,
      "outputs": []
    }
  ]
}